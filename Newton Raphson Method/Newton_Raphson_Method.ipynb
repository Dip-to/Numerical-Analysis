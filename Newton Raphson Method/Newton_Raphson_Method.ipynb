{
  "nbformat": 4,
  "nbformat_minor": 0,
  "metadata": {
    "colab": {
      "provenance": []
    },
    "kernelspec": {
      "name": "python3",
      "display_name": "Python 3"
    },
    "language_info": {
      "name": "python"
    }
  },
  "cells": [
    {
      "cell_type": "code",
      "execution_count": 2,
      "metadata": {
        "colab": {
          "base_uri": "https://localhost:8080/",
          "height": 708
        },
        "id": "E8xd6nBKMWS1",
        "outputId": "51c9ed9f-93d5-49ed-d115-d04d1813d837"
      },
      "outputs": [
        {
          "output_type": "stream",
          "name": "stdout",
          "text": [
            "---------------------------------------------------------------------------------------------------------------------------\n",
            "      Xi      |       f(xi)      |      f'(xi)     |       xi+1     | Approximation Error | Relative Approximation Error\n",
            "---------------------------------------------------------------------------------------------------------------------------\n",
            "   50.000000  |   124949.000000 |     7499.000000 |       33.337912 |           16.662088 |            49.979400%\n",
            "   33.337912  |    37017.962516 |     3333.249074 |       22.232242 |           11.105669 |            49.952989%\n",
            "   22.232242  |    10965.555822 |     1481.817785 |       14.832172 |            7.400070 |            49.892021%\n",
            "   14.832172  |     3247.146623 |      658.979971 |        9.904637 |            4.927535 |            49.749774%\n",
            "    9.904637  |      960.758503 |      293.305519 |        6.629014 |            3.275624 |            49.413440%\n",
            "    6.629014  |      283.675177 |      130.831464 |        4.460765 |            2.168249 |            48.607112%\n",
            "    4.460765  |       83.301414 |       58.695266 |        3.041546 |            1.419219 |            46.661092%\n",
            "    3.041546  |       24.095805 |       26.753008 |        2.140870 |            0.900676 |            42.070590%\n",
            "    2.140870  |        6.671427 |       12.749968 |        1.617619 |            0.523250 |            32.346950%\n",
            "    1.617619  |        1.615192 |        6.850075 |        1.381827 |            0.235792 |            17.063767%\n",
            "    1.381827  |        0.256699 |        4.728341 |        1.327538 |            0.054289 |             4.089477%\n",
            "    1.327538  |        0.012058 |        4.287071 |        1.324725 |            0.002813 |             0.212321%\n",
            "    1.324725  |        0.000031 |        4.264692 |        1.324718 |            0.000007 |             0.000557%\n"
          ]
        },
        {
          "output_type": "display_data",
          "data": {
            "text/plain": [
              "<Figure size 640x480 with 1 Axes>"
            ],
            "image/png": "[encoded data removed]"
          },
          "metadata": {}
        }
      ],
      "source": [
        "import matplotlib.pyplot as plt\n",
        "import numpy as np\n",
        "def f(x):\n",
        "    return x ** 3 - x - 1\n",
        "\n",
        "def df(x):\n",
        "    return 3 * x ** 2 - 1\n",
        "\n",
        "print(\"---------------------------------------------------------------------------------------------------------------------------\")\n",
        "print(\"      Xi      |       f(xi)      |      f'(xi)     |       xi+1     | Approximation Error | Relative Approximation Error\")\n",
        "print(\"---------------------------------------------------------------------------------------------------------------------------\")\n",
        "x0 = 50\n",
        "iteration = 1\n",
        "it_arr = []\n",
        "apprx_arr=[]\n",
        "\n",
        "while abs(f(x0)) >= 10 ** -5:\n",
        "    it_arr.append(iteration)\n",
        "    iteration += 1\n",
        "    xi = x0 - (f(x0) / df(x0))\n",
        "    apprx =abs( xi - x0)\n",
        "    r_apprx = (apprx * 100) / xi\n",
        "    print(f\"  {x0:10.6f}  | {f(x0):15.6f} | {df(x0):15.6f} | {xi:15.6f} | {apprx:19.6f} | {r_apprx:20.6f}%\")\n",
        "    apprx_arr.append(apprx)\n",
        "    x0 = xi\n",
        "\n",
        "x = np.array(it_arr)\n",
        "y = np.array(apprx_arr)\n",
        "\n",
        "plt.bar(x,y)\n",
        "plt.show()\n",
        "\n"
      ]
    }
  ]
}