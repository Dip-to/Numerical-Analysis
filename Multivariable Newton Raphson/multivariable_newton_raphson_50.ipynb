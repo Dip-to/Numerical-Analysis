{
  "nbformat": 4,
  "nbformat_minor": 0,
  "metadata": {
    "colab": {
      "provenance": []
    },
    "kernelspec": {
      "name": "python3",
      "display_name": "Python 3"
    },
    "language_info": {
      "name": "python"
    }
  },
  "cells": [
    {
      "cell_type": "code",
      "execution_count": 5,
      "metadata": {
        "colab": {
          "base_uri": "https://localhost:8080/"
        },
        "id": "FYd34SXqCFK8",
        "outputId": "a3227b4b-0d27-455c-f491-7cd618949ba6"
      },
      "outputs": [
        {
          "output_type": "stream",
          "name": "stdout",
          "text": [
            "\n",
            "Multvariable Newton Raphson:\n",
            "-----------------------------------------------------\n",
            "|Iteration|      x     |      y     |      z     |\n",
            "-----------------------------------------------------\n",
            "      0   |   0.102564 |   1.641026 |   2.564103 | \n",
            "      1   |   1.520623 |   1.411129 |   0.198590 | \n",
            "      2   |   1.941234 |   0.771343 |   0.894651 | \n",
            "      3   |   1.067366 |   1.191171 |   0.483525 | \n",
            "      4   |   1.268254 |   0.951822 |   0.880281 | \n",
            "      5   |   0.958988 |   1.033836 |   0.968126 | \n",
            "      6   |   1.001713 |   1.000070 |   0.997178 | \n",
            "      7   |   1.000001 |   1.000001 |   1.000000 | \n",
            "      8   |   1.000000 |   1.000000 |   1.000000 | \n",
            "\n",
            "The final root is: (0.999999999992267, 1.0000000000056117, 1.0000000000067562)\n"
          ]
        }
      ],
      "source": [
        "\n",
        "import numpy as np\n",
        "equation1 = lambda x, y, z: x**2 - 2*x + y**2 - z + 1\n",
        "equation2 = lambda x, y, z: x*y**2 - x - y*3 + y*z + 2\n",
        "equation3 = lambda x, y, z: x*z**2 - 3*z + y*z**2 + x*y\n",
        "\n",
        "def f(x,y,z):\n",
        "    A= np.array([\n",
        "        equation1(x, y, z),\n",
        "        equation2(x, y, z),\n",
        "        equation3(x, y, z)\n",
        "    ])\n",
        "    return A\n",
        "\n",
        "def J(x,y,z):\n",
        "    A= np.array([\n",
        "        [2 * x -2+0,\n",
        "         2*y,\n",
        "         -1],\n",
        "        [y**2-1+0,\n",
        "         2*x*y-3+0+z,\n",
        "         y+0],\n",
        "        [z**2+y+0,\n",
        "         z**2+0+x,\n",
        "         2*x*z-3+2*y*z+0]\n",
        "    ])\n",
        "    return A\n",
        "\n",
        "\n",
        "iter = 10000\n",
        "tolerance=1e-6\n",
        "print(\"\\nMultvariable Newton Raphson:\")\n",
        "print(\"-----------------------------------------------------\")\n",
        "print(\"|Iteration|      x     |      y     |      z     |\")\n",
        "print(\"-----------------------------------------------------\")\n",
        "x0 =x= np.array([1.0, 2.0, 3.0])\n",
        "\n",
        "\n",
        "for i in range(iter):\n",
        "    J_INV=np.linalg.inv(J(x[0],x[1],x[2]))\n",
        "    tmp= np.dot( J_INV,f(x[0],x[1],x[2]))\n",
        "    x=x-tmp\n",
        "    print(f\"  {i:5}   | {x[0]:10.6f} | {x[1]:10.6f} | {x[2]:10.6f} | \")\n",
        "    J_INV=0\n",
        "    if np.allclose(f(x[0],x[1],x[2]), np.array([0, 0, 0]),atol=tolerance):\n",
        "       print(f\"\\nThe final root is: {x[0],x[1],x[2]}\")\n",
        "       break\n",
        "\n"
      ]
    }
  ]
}